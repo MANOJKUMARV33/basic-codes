{
  "nbformat": 4,
  "nbformat_minor": 0,
  "metadata": {
    "colab": {
      "name": "Copy of Untitled1.ipynb",
      "provenance": []
    },
    "kernelspec": {
      "display_name": "Python 3",
      "name": "python3"
    },
    "language_info": {
      "name": "python"
    }
  },
  "cells": [
    {
      "cell_type": "code",
      "metadata": {
        "colab": {
          "base_uri": "https://localhost:8080/"
        },
        "id": "zB9J3I5b-QAa",
        "outputId": "fc13ce96-51ae-430f-b12b-2be7b5ce57fb"
      },
      "source": [
        "pip install pypng\n"
      ],
      "execution_count": null,
      "outputs": [
        {
          "output_type": "stream",
          "text": [
            "Collecting pypng\n",
            "\u001b[?25l  Downloading https://files.pythonhosted.org/packages/bc/fb/f719f1ac965e2101aa6ea6f54ef8b40f8fbb033f6ad07c017663467f5147/pypng-0.0.20.tar.gz (649kB)\n",
            "\r\u001b[K     |▌                               | 10kB 14.2MB/s eta 0:00:01\r\u001b[K     |█                               | 20kB 9.4MB/s eta 0:00:01\r\u001b[K     |█▌                              | 30kB 7.9MB/s eta 0:00:01\r\u001b[K     |██                              | 40kB 7.4MB/s eta 0:00:01\r\u001b[K     |██▌                             | 51kB 4.0MB/s eta 0:00:01\r\u001b[K     |███                             | 61kB 4.3MB/s eta 0:00:01\r\u001b[K     |███▌                            | 71kB 4.7MB/s eta 0:00:01\r\u001b[K     |████                            | 81kB 5.0MB/s eta 0:00:01\r\u001b[K     |████▌                           | 92kB 3.7MB/s eta 0:00:01\r\u001b[K     |█████                           | 102kB 4.1MB/s eta 0:00:01\r\u001b[K     |█████▌                          | 112kB 4.1MB/s eta 0:00:01\r\u001b[K     |██████                          | 122kB 4.1MB/s eta 0:00:01\r\u001b[K     |██████▋                         | 133kB 4.1MB/s eta 0:00:01\r\u001b[K     |███████                         | 143kB 4.1MB/s eta 0:00:01\r\u001b[K     |███████▋                        | 153kB 4.1MB/s eta 0:00:01\r\u001b[K     |████████                        | 163kB 4.1MB/s eta 0:00:01\r\u001b[K     |████████▋                       | 174kB 4.1MB/s eta 0:00:01\r\u001b[K     |█████████                       | 184kB 4.1MB/s eta 0:00:01\r\u001b[K     |█████████▋                      | 194kB 4.1MB/s eta 0:00:01\r\u001b[K     |██████████                      | 204kB 4.1MB/s eta 0:00:01\r\u001b[K     |██████████▋                     | 215kB 4.1MB/s eta 0:00:01\r\u001b[K     |███████████                     | 225kB 4.1MB/s eta 0:00:01\r\u001b[K     |███████████▋                    | 235kB 4.1MB/s eta 0:00:01\r\u001b[K     |████████████                    | 245kB 4.1MB/s eta 0:00:01\r\u001b[K     |████████████▋                   | 256kB 4.1MB/s eta 0:00:01\r\u001b[K     |█████████████▏                  | 266kB 4.1MB/s eta 0:00:01\r\u001b[K     |█████████████▋                  | 276kB 4.1MB/s eta 0:00:01\r\u001b[K     |██████████████▏                 | 286kB 4.1MB/s eta 0:00:01\r\u001b[K     |██████████████▋                 | 296kB 4.1MB/s eta 0:00:01\r\u001b[K     |███████████████▏                | 307kB 4.1MB/s eta 0:00:01\r\u001b[K     |███████████████▋                | 317kB 4.1MB/s eta 0:00:01\r\u001b[K     |████████████████▏               | 327kB 4.1MB/s eta 0:00:01\r\u001b[K     |████████████████▋               | 337kB 4.1MB/s eta 0:00:01\r\u001b[K     |█████████████████▏              | 348kB 4.1MB/s eta 0:00:01\r\u001b[K     |█████████████████▋              | 358kB 4.1MB/s eta 0:00:01\r\u001b[K     |██████████████████▏             | 368kB 4.1MB/s eta 0:00:01\r\u001b[K     |██████████████████▋             | 378kB 4.1MB/s eta 0:00:01\r\u001b[K     |███████████████████▏            | 389kB 4.1MB/s eta 0:00:01\r\u001b[K     |███████████████████▊            | 399kB 4.1MB/s eta 0:00:01\r\u001b[K     |████████████████████▏           | 409kB 4.1MB/s eta 0:00:01\r\u001b[K     |████████████████████▊           | 419kB 4.1MB/s eta 0:00:01\r\u001b[K     |█████████████████████▏          | 430kB 4.1MB/s eta 0:00:01\r\u001b[K     |█████████████████████▊          | 440kB 4.1MB/s eta 0:00:01\r\u001b[K     |██████████████████████▏         | 450kB 4.1MB/s eta 0:00:01\r\u001b[K     |██████████████████████▊         | 460kB 4.1MB/s eta 0:00:01\r\u001b[K     |███████████████████████▏        | 471kB 4.1MB/s eta 0:00:01\r\u001b[K     |███████████████████████▊        | 481kB 4.1MB/s eta 0:00:01\r\u001b[K     |████████████████████████▏       | 491kB 4.1MB/s eta 0:00:01\r\u001b[K     |████████████████████████▊       | 501kB 4.1MB/s eta 0:00:01\r\u001b[K     |█████████████████████████▎      | 512kB 4.1MB/s eta 0:00:01\r\u001b[K     |█████████████████████████▊      | 522kB 4.1MB/s eta 0:00:01\r\u001b[K     |██████████████████████████▎     | 532kB 4.1MB/s eta 0:00:01\r\u001b[K     |██████████████████████████▊     | 542kB 4.1MB/s eta 0:00:01\r\u001b[K     |███████████████████████████▎    | 552kB 4.1MB/s eta 0:00:01\r\u001b[K     |███████████████████████████▊    | 563kB 4.1MB/s eta 0:00:01\r\u001b[K     |████████████████████████████▎   | 573kB 4.1MB/s eta 0:00:01\r\u001b[K     |████████████████████████████▊   | 583kB 4.1MB/s eta 0:00:01\r\u001b[K     |█████████████████████████████▎  | 593kB 4.1MB/s eta 0:00:01\r\u001b[K     |█████████████████████████████▊  | 604kB 4.1MB/s eta 0:00:01\r\u001b[K     |██████████████████████████████▎ | 614kB 4.1MB/s eta 0:00:01\r\u001b[K     |██████████████████████████████▊ | 624kB 4.1MB/s eta 0:00:01\r\u001b[K     |███████████████████████████████▎| 634kB 4.1MB/s eta 0:00:01\r\u001b[K     |███████████████████████████████▉| 645kB 4.1MB/s eta 0:00:01\r\u001b[K     |████████████████████████████████| 655kB 4.1MB/s \n",
            "\u001b[?25hBuilding wheels for collected packages: pypng\n",
            "  Building wheel for pypng (setup.py) ... \u001b[?25l\u001b[?25hdone\n",
            "  Created wheel for pypng: filename=pypng-0.0.20-cp37-none-any.whl size=67179 sha256=5bf58599292e64f2167beb4b9e403a96352aae55c2b6acb8a29ff15923382748\n",
            "  Stored in directory: /root/.cache/pip/wheels/41/6b/ef/0493b536b6d4722c2ae9486691b1d49b922b9877922beeabb3\n",
            "Successfully built pypng\n",
            "Installing collected packages: pypng\n",
            "Successfully installed pypng-0.0.20\n"
          ],
          "name": "stdout"
        }
      ]
    },
    {
      "cell_type": "code",
      "metadata": {
        "colab": {
          "base_uri": "https://localhost:8080/"
        },
        "id": "5UPGmqnY-FVm",
        "outputId": "7669d3c0-9d90-41c4-f2b9-f2dfacbfc22d"
      },
      "source": [
        "pip install pyqrcode\n"
      ],
      "execution_count": null,
      "outputs": [
        {
          "output_type": "stream",
          "text": [
            "Collecting pyqrcode\n",
            "  Downloading https://files.pythonhosted.org/packages/37/61/f07226075c347897937d4086ef8e55f0a62ae535e28069884ac68d979316/PyQRCode-1.2.1.tar.gz\n",
            "Building wheels for collected packages: pyqrcode\n",
            "  Building wheel for pyqrcode (setup.py) ... \u001b[?25l\u001b[?25hdone\n",
            "  Created wheel for pyqrcode: filename=PyQRCode-1.2.1-cp37-none-any.whl size=36245 sha256=0d91fc7e77409ea480cccb63b7f01e2568f65a3f3be705b2dc97060e0076c66e\n",
            "  Stored in directory: /root/.cache/pip/wheels/54/61/2f/a4f51b09473db5737db0f654ed10eb9a4ee01f83a7412de349\n",
            "Successfully built pyqrcode\n",
            "Installing collected packages: pyqrcode\n",
            "Successfully installed pyqrcode-1.2.1\n"
          ],
          "name": "stdout"
        }
      ]
    },
    {
      "cell_type": "code",
      "metadata": {
        "colab": {
          "base_uri": "https://localhost:8080/",
          "height": 195
        },
        "id": "7y2EekqK8Cex",
        "outputId": "cff5e5fa-3986-41aa-abe3-9fdf8e2f6058"
      },
      "source": [
        "import pyqrcode\n",
        "import png\n",
        "from pyqrcode import QRCode\n",
        "s=\"https://www.instagram.com/_manu_v/\"\n",
        "url=pyqrcode.create(s)\n",
        "url.png('myqr.png',scale=6)"
      ],
      "execution_count": null,
      "outputs": [
        {
          "output_type": "error",
          "ename": "AttributeError",
          "evalue": "ignored",
          "traceback": [
            "\u001b[0;31m---------------------------------------------------------------------------\u001b[0m",
            "\u001b[0;31mAttributeError\u001b[0m                            Traceback (most recent call last)",
            "\u001b[0;32m<ipython-input-16-630a8155e1f0>\u001b[0m in \u001b[0;36m<module>\u001b[0;34m()\u001b[0m\n\u001b[1;32m      5\u001b[0m \u001b[0murl\u001b[0m\u001b[0;34m=\u001b[0m\u001b[0mpyqrcode\u001b[0m\u001b[0;34m.\u001b[0m\u001b[0mcreate\u001b[0m\u001b[0;34m(\u001b[0m\u001b[0ms\u001b[0m\u001b[0;34m)\u001b[0m\u001b[0;34m\u001b[0m\u001b[0;34m\u001b[0m\u001b[0m\n\u001b[1;32m      6\u001b[0m \u001b[0murl\u001b[0m\u001b[0;34m.\u001b[0m\u001b[0mpng\u001b[0m\u001b[0;34m(\u001b[0m\u001b[0;34m'myqr.png'\u001b[0m\u001b[0;34m,\u001b[0m\u001b[0mscale\u001b[0m\u001b[0;34m=\u001b[0m\u001b[0;36m6\u001b[0m\u001b[0;34m)\u001b[0m\u001b[0;34m\u001b[0m\u001b[0;34m\u001b[0m\u001b[0m\n\u001b[0;32m----> 7\u001b[0;31m \u001b[0murl\u001b[0m\u001b[0;34m.\u001b[0m\u001b[0msave\u001b[0m\u001b[0;34m(\u001b[0m\u001b[0;34m'/content/myqr.png'\u001b[0m\u001b[0;34m)\u001b[0m\u001b[0;34m\u001b[0m\u001b[0;34m\u001b[0m\u001b[0m\n\u001b[0m",
            "\u001b[0;31mAttributeError\u001b[0m: 'QRCode' object has no attribute 'save'"
          ]
        }
      ]
    }
  ]
}